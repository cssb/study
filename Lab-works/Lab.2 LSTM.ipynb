{
 "cells": [
  {
   "cell_type": "markdown",
   "metadata": {},
   "source": [
    "# Рекурентная нейронная сеть LSTM\n",
    "\n",
    "Для примера выбрана **регрессионная задача** расчёта суммы последовательности чисел.\n",
    "\n",
    "Для каждого $i$-го примера модель предсказывает сумму всех элементов на входе:\n",
    "\n",
    "$$ y_i = \\sum X_i, $$\n",
    "\n",
    "В одном примере на вход приходит 3 числа:\n",
    "$$ X_i = [x_1, x_2, x_3] $$\n",
    "\n",
    "Числа на входе лежат в интервале от 0 до 0.3, для нормализации выхода сети.\n",
    "$$ x_n \\in [0, 0.3], \\  0 < \\sum X_i < 1 $$"
   ]
  },
  {
   "cell_type": "code",
   "execution_count": 15,
   "metadata": {
    "collapsed": false
   },
   "outputs": [],
   "source": [
    "#Подключаем нужнае библиотеки:\n",
    "import numpy as np\n",
    "\n",
    "# Модель нейронной сети\n",
    "import keras\n",
    "from keras.preprocessing.sequence import pad_sequences\n",
    "from keras.models import *\n",
    "from keras.layers import *\n",
    "from keras.regularizers import *\n",
    "from keras.callbacks import *\n",
    "from keras.optimizers import *\n",
    "\n",
    "# Библиотеки sklearn, для данных, их подготовки, нормализации\n",
    "from sklearn.cross_validation import *\n",
    "from sklearn.metrics import *\n",
    "from sklearn.preprocessing import *\n",
    "from sklearn.externals.joblib import load, dump\n",
    "\n",
    "# Графики\n",
    "import matplotlib.pyplot as plt\n",
    "%matplotlib inline"
   ]
  },
  {
   "cell_type": "markdown",
   "metadata": {},
   "source": [
    "# Данные\n",
    "\n",
    "Для примера сгенирирует 250 последовательностей случайных чисел длиной 3. \n",
    "\n",
    "220 последовательностей для обучения и 30 для тестирования."
   ]
  },
  {
   "cell_type": "code",
   "execution_count": 2,
   "metadata": {
    "collapsed": false
   },
   "outputs": [],
   "source": [
    "#Данные\n",
    "x_train = np.random.random((220, 3, 1))/3.\n",
    "x_test  = np.random.random((30, 3, 1))/3.\n",
    "y_train = np.sum(x_train, axis=1)\n",
    "y_test  = np.sum(x_test,  axis=1)"
   ]
  },
  {
   "cell_type": "code",
   "execution_count": 3,
   "metadata": {
    "collapsed": false
   },
   "outputs": [
    {
     "name": "stdout",
     "output_type": "stream",
     "text": [
      "Данные на вход:\n",
      "[[ 0.00803537]\n",
      " [ 0.19322499]\n",
      " [ 0.07869979]] \n",
      "\n",
      "Выходные данные (сумма чисел из входных данных):\n",
      "[ 0.27996014]\n",
      "\n",
      "input_shape: (3, 1)\n"
     ]
    }
   ],
   "source": [
    "print 'Данные на вход:\\n', x_train[0],  '\\n\\nВыходные данные (сумма чисел из входных данных):\\n',y_train[0]\n",
    "print '\\ninput_shape:', x_train.shape[1:]"
   ]
  },
  {
   "cell_type": "markdown",
   "metadata": {},
   "source": [
    "# Модель\n",
    "\n",
    "## Настройки модели\n",
    "\n",
    "Добавляем слой нейронов LSTM(n, input_shape, return_sequences), где:\n",
    "\n",
    "1) **n** - Количество нейронов в слое;\n",
    "\n",
    "2) **input_shape(timesteps, input_dim)** - форма входного сигнала. Здесь указывается 2 числа:\n",
    " - timesteps\n",
    " - input_dim\n",
    "\n",
    "timesteps - Длина входных последовательностей, необходимо указать, когда она постоянна. Указывается на уровне первого слоя. Необходим, если в модели будут **Dense** слои (Полносвязные слои нейрнной сети).\n",
    "\n",
    "input_dim - Целое число. Параметр необходим при использовании слоя в качестве первого слоя модели. Отражает количество последовательностей на входе.\n",
    "\n",
    "3) **return_sequences** - Булевый параметр (принемает значение True и False). \n",
    " - Если True - возвращает последний выходной сигнал в выходной последовательности;\n",
    " - Если False - возвращает всю последовательность.\n",
    "Для добавления ещё одного слоя LSTM - устанавливается значение True."
   ]
  },
  {
   "cell_type": "code",
   "execution_count": 8,
   "metadata": {
    "collapsed": false,
    "scrolled": true
   },
   "outputs": [
    {
     "name": "stdout",
     "output_type": "stream",
     "text": [
      "Train on 198 samples, validate on 22 samples\n",
      "Epoch 1/100\n",
      "198/198 [==============================] - 0s - loss: 0.4105 - val_loss: 0.3589\n",
      "Epoch 2/100\n",
      "198/198 [==============================] - 0s - loss: 0.3574 - val_loss: 0.3038\n",
      "Epoch 3/100\n",
      "198/198 [==============================] - 0s - loss: 0.2991 - val_loss: 0.2415\n",
      "Epoch 4/100\n",
      "198/198 [==============================] - 0s - loss: 0.2352 - val_loss: 0.1714\n",
      "Epoch 5/100\n",
      "198/198 [==============================] - 0s - loss: 0.1675 - val_loss: 0.1027\n",
      "Epoch 6/100\n",
      "198/198 [==============================] - 0s - loss: 0.1070 - val_loss: 0.0712\n",
      "Epoch 7/100\n",
      "198/198 [==============================] - 0s - loss: 0.0831 - val_loss: 0.0786\n",
      "Epoch 8/100\n",
      "198/198 [==============================] - 0s - loss: 0.0830 - val_loss: 0.0724\n",
      "Epoch 9/100\n",
      "198/198 [==============================] - 0s - loss: 0.0798 - val_loss: 0.0694\n",
      "Epoch 10/100\n",
      "198/198 [==============================] - 0s - loss: 0.0785 - val_loss: 0.0677\n",
      "Epoch 11/100\n",
      "198/198 [==============================] - 0s - loss: 0.0763 - val_loss: 0.0663\n",
      "Epoch 12/100\n",
      "198/198 [==============================] - 0s - loss: 0.0743 - val_loss: 0.0646\n",
      "Epoch 13/100\n",
      "198/198 [==============================] - 0s - loss: 0.0721 - val_loss: 0.0628\n",
      "Epoch 14/100\n",
      "198/198 [==============================] - 0s - loss: 0.0702 - val_loss: 0.0598\n",
      "Epoch 15/100\n",
      "198/198 [==============================] - 0s - loss: 0.0676 - val_loss: 0.0578\n",
      "Epoch 16/100\n",
      "198/198 [==============================] - 0s - loss: 0.0649 - val_loss: 0.0553\n",
      "Epoch 17/100\n",
      "198/198 [==============================] - 0s - loss: 0.0624 - val_loss: 0.0523\n",
      "Epoch 18/100\n",
      "198/198 [==============================] - 0s - loss: 0.0602 - val_loss: 0.0520\n",
      "Epoch 19/100\n",
      "198/198 [==============================] - 0s - loss: 0.0576 - val_loss: 0.0470\n",
      "Epoch 20/100\n",
      "198/198 [==============================] - 0s - loss: 0.0541 - val_loss: 0.0445\n",
      "Epoch 21/100\n",
      "198/198 [==============================] - 0s - loss: 0.0512 - val_loss: 0.0413\n",
      "Epoch 22/100\n",
      "198/198 [==============================] - 0s - loss: 0.0480 - val_loss: 0.0375\n",
      "Epoch 23/100\n",
      "198/198 [==============================] - 0s - loss: 0.0444 - val_loss: 0.0336\n",
      "Epoch 24/100\n",
      "198/198 [==============================] - 0s - loss: 0.0415 - val_loss: 0.0301\n",
      "Epoch 25/100\n",
      "198/198 [==============================] - 0s - loss: 0.0385 - val_loss: 0.0278\n",
      "Epoch 26/100\n",
      "198/198 [==============================] - 0s - loss: 0.0348 - val_loss: 0.0266\n",
      "Epoch 27/100\n",
      "198/198 [==============================] - 0s - loss: 0.0319 - val_loss: 0.0248\n",
      "Epoch 28/100\n",
      "198/198 [==============================] - 0s - loss: 0.0287 - val_loss: 0.0236\n",
      "Epoch 29/100\n",
      "198/198 [==============================] - 0s - loss: 0.0262 - val_loss: 0.0251\n",
      "Epoch 30/100\n",
      "198/198 [==============================] - 0s - loss: 0.0245 - val_loss: 0.0224\n",
      "Epoch 31/100\n",
      "198/198 [==============================] - 0s - loss: 0.0214 - val_loss: 0.0218\n",
      "Epoch 32/100\n",
      "198/198 [==============================] - 0s - loss: 0.0199 - val_loss: 0.0204\n",
      "Epoch 33/100\n",
      "198/198 [==============================] - 0s - loss: 0.0182 - val_loss: 0.0191\n",
      "Epoch 34/100\n",
      "198/198 [==============================] - 0s - loss: 0.0166 - val_loss: 0.0180\n",
      "Epoch 35/100\n",
      "198/198 [==============================] - 0s - loss: 0.0157 - val_loss: 0.0164\n",
      "Epoch 36/100\n",
      "198/198 [==============================] - 0s - loss: 0.0142 - val_loss: 0.0147\n",
      "Epoch 37/100\n",
      "198/198 [==============================] - 0s - loss: 0.0128 - val_loss: 0.0131\n",
      "Epoch 38/100\n",
      "198/198 [==============================] - 0s - loss: 0.0113 - val_loss: 0.0113\n",
      "Epoch 39/100\n",
      "198/198 [==============================] - 0s - loss: 0.0103 - val_loss: 0.0106\n",
      "Epoch 40/100\n",
      "198/198 [==============================] - 0s - loss: 0.0088 - val_loss: 0.0080\n",
      "Epoch 41/100\n",
      "198/198 [==============================] - 0s - loss: 0.0073 - val_loss: 0.0076\n",
      "Epoch 42/100\n",
      "198/198 [==============================] - 0s - loss: 0.0073 - val_loss: 0.0057\n",
      "Epoch 43/100\n",
      "198/198 [==============================] - 0s - loss: 0.0059 - val_loss: 0.0046\n",
      "Epoch 44/100\n",
      "198/198 [==============================] - 0s - loss: 0.0054 - val_loss: 0.0040\n",
      "Epoch 45/100\n",
      "198/198 [==============================] - 0s - loss: 0.0054 - val_loss: 0.0038\n",
      "Epoch 46/100\n",
      "198/198 [==============================] - 0s - loss: 0.0056 - val_loss: 0.0035\n",
      "Epoch 47/100\n",
      "198/198 [==============================] - 0s - loss: 0.0054 - val_loss: 0.0059\n",
      "Epoch 48/100\n",
      "198/198 [==============================] - 0s - loss: 0.0054 - val_loss: 0.0033\n",
      "Epoch 49/100\n",
      "198/198 [==============================] - 0s - loss: 0.0057 - val_loss: 0.0034\n",
      "Epoch 50/100\n",
      "198/198 [==============================] - 0s - loss: 0.0047 - val_loss: 0.0033\n",
      "Epoch 51/100\n",
      "198/198 [==============================] - 0s - loss: 0.0050 - val_loss: 0.0036\n",
      "Epoch 52/100\n",
      "198/198 [==============================] - 0s - loss: 0.0051 - val_loss: 0.0034\n",
      "Epoch 53/100\n",
      "198/198 [==============================] - 0s - loss: 0.0048 - val_loss: 0.0031\n",
      "Epoch 54/100\n",
      "198/198 [==============================] - 0s - loss: 0.0053 - val_loss: 0.0032\n",
      "Epoch 55/100\n",
      "198/198 [==============================] - 0s - loss: 0.0051 - val_loss: 0.0032\n",
      "Epoch 56/100\n",
      "198/198 [==============================] - 0s - loss: 0.0051 - val_loss: 0.0031\n",
      "Epoch 57/100\n",
      "198/198 [==============================] - 0s - loss: 0.0044 - val_loss: 0.0038\n",
      "Epoch 58/100\n",
      "198/198 [==============================] - 0s - loss: 0.0049 - val_loss: 0.0030\n",
      "Epoch 59/100\n",
      "198/198 [==============================] - 0s - loss: 0.0044 - val_loss: 0.0030\n",
      "Epoch 60/100\n",
      "198/198 [==============================] - 0s - loss: 0.0043 - val_loss: 0.0029\n",
      "Epoch 61/100\n",
      "198/198 [==============================] - 0s - loss: 0.0042 - val_loss: 0.0029\n",
      "Epoch 62/100\n",
      "198/198 [==============================] - 0s - loss: 0.0043 - val_loss: 0.0029\n",
      "Epoch 63/100\n",
      "198/198 [==============================] - 0s - loss: 0.0044 - val_loss: 0.0052\n",
      "Epoch 64/100\n",
      "198/198 [==============================] - 0s - loss: 0.0049 - val_loss: 0.0029\n",
      "Epoch 65/100\n",
      "198/198 [==============================] - 0s - loss: 0.0042 - val_loss: 0.0029\n",
      "Epoch 66/100\n",
      "198/198 [==============================] - 0s - loss: 0.0046 - val_loss: 0.0030\n",
      "Epoch 67/100\n",
      "198/198 [==============================] - 0s - loss: 0.0042 - val_loss: 0.0036\n",
      "Epoch 68/100\n",
      "198/198 [==============================] - 0s - loss: 0.0042 - val_loss: 0.0028\n",
      "Epoch 69/100\n",
      "198/198 [==============================] - 0s - loss: 0.0040 - val_loss: 0.0030\n",
      "Epoch 70/100\n",
      "198/198 [==============================] - 0s - loss: 0.0040 - val_loss: 0.0026\n",
      "Epoch 71/100\n",
      "198/198 [==============================] - 0s - loss: 0.0038 - val_loss: 0.0027\n",
      "Epoch 72/100\n",
      "198/198 [==============================] - 0s - loss: 0.0041 - val_loss: 0.0025\n",
      "Epoch 73/100\n",
      "198/198 [==============================] - 0s - loss: 0.0037 - val_loss: 0.0037\n",
      "Epoch 74/100\n",
      "198/198 [==============================] - 0s - loss: 0.0042 - val_loss: 0.0041\n",
      "Epoch 75/100\n",
      "198/198 [==============================] - 0s - loss: 0.0045 - val_loss: 0.0026\n",
      "Epoch 76/100\n",
      "198/198 [==============================] - 0s - loss: 0.0037 - val_loss: 0.0025\n",
      "Epoch 77/100\n",
      "198/198 [==============================] - 0s - loss: 0.0036 - val_loss: 0.0025\n",
      "Epoch 78/100\n",
      "198/198 [==============================] - 0s - loss: 0.0036 - val_loss: 0.0031\n",
      "Epoch 79/100\n",
      "198/198 [==============================] - 0s - loss: 0.0041 - val_loss: 0.0027\n",
      "Epoch 80/100\n",
      "198/198 [==============================] - 0s - loss: 0.0036 - val_loss: 0.0023\n",
      "Epoch 81/100\n",
      "198/198 [==============================] - 0s - loss: 0.0038 - val_loss: 0.0022\n",
      "Epoch 82/100\n",
      "198/198 [==============================] - 0s - loss: 0.0035 - val_loss: 0.0027\n",
      "Epoch 83/100\n",
      "198/198 [==============================] - 0s - loss: 0.0033 - val_loss: 0.0023\n",
      "Epoch 84/100\n",
      "198/198 [==============================] - 0s - loss: 0.0033 - val_loss: 0.0024\n",
      "Epoch 85/100\n",
      "198/198 [==============================] - 0s - loss: 0.0032 - val_loss: 0.0025\n",
      "Epoch 86/100\n",
      "198/198 [==============================] - 0s - loss: 0.0032 - val_loss: 0.0039\n",
      "Epoch 87/100\n",
      "198/198 [==============================] - 0s - loss: 0.0036 - val_loss: 0.0021\n",
      "Epoch 88/100\n",
      "198/198 [==============================] - 0s - loss: 0.0030 - val_loss: 0.0031\n",
      "Epoch 89/100\n",
      "198/198 [==============================] - 0s - loss: 0.0032 - val_loss: 0.0029\n",
      "Epoch 90/100\n",
      "198/198 [==============================] - 0s - loss: 0.0035 - val_loss: 0.0020\n",
      "Epoch 91/100\n",
      "198/198 [==============================] - 0s - loss: 0.0029 - val_loss: 0.0020\n",
      "Epoch 92/100\n",
      "198/198 [==============================] - 0s - loss: 0.0033 - val_loss: 0.0045\n",
      "Epoch 93/100\n",
      "198/198 [==============================] - 0s - loss: 0.0031 - val_loss: 0.0020\n",
      "Epoch 94/100\n",
      "198/198 [==============================] - 0s - loss: 0.0027 - val_loss: 0.0022\n",
      "Epoch 95/100\n",
      "198/198 [==============================] - 0s - loss: 0.0027 - val_loss: 0.0018\n",
      "Epoch 96/100\n",
      "198/198 [==============================] - 0s - loss: 0.0026 - val_loss: 0.0020\n",
      "Epoch 97/100\n",
      "198/198 [==============================] - 0s - loss: 0.0027 - val_loss: 0.0022\n",
      "Epoch 98/100\n",
      "198/198 [==============================] - 0s - loss: 0.0028 - val_loss: 0.0042\n",
      "Epoch 99/100\n",
      "198/198 [==============================] - 0s - loss: 0.0037 - val_loss: 0.0024\n",
      "Epoch 100/100\n",
      "198/198 [==============================] - 0s - loss: 0.0026 - val_loss: 0.0031\n"
     ]
    }
   ],
   "source": [
    "#Модель\n",
    "model = Sequential()\n",
    "model.add(LSTM(8, input_shape=x_train.shape[1:], return_sequences=False))\n",
    "\n",
    "model.add(Dense(1))\n",
    "model.add(Activation('relu'))\n",
    "\n",
    "model.compile(loss='mae', optimizer='adam')\n",
    "\n",
    "#Параметры ранней остановки и сохранение лучшей модели\n",
    "early_stopper = EarlyStopping(monitor='val_loss', patience=90)\n",
    "callback_save_model = ModelCheckpoint(\"models/Lab2.hdf5\", save_best_only=True)\n",
    "\n",
    "history = model.fit(x_train, y_train, batch_size=15, nb_epoch=100, show_accuracy=True, validation_split = 0.1, callbacks = [callback_save_model, early_stopper])\n",
    "\n",
    "pred = model.predict(x_test)"
   ]
  },
  {
   "cell_type": "markdown",
   "metadata": {},
   "source": [
    "# Параметры обучения\n",
    "\n",
    "Функция активации полносвязного слоя: **relu**;\n",
    "\n",
    "Функция ошибки: **mae**;\n",
    "\n",
    "Оптимизационная функция: **adam**\n",
    "\n",
    "validation_split - Выделение из тестировочных данных валидационного множества (10%)\n",
    "\n",
    "batch_size - Количество примеров в одной \"порции\" для обучения или предсказания (15 примеров в одной \"порции\")\n",
    "\n",
    "nb_epoch - Количество эпох (100 эпох)"
   ]
  },
  {
   "cell_type": "markdown",
   "metadata": {},
   "source": [
    "## Функция активации ReLU (rectified linear unit) - «выпрямитель»\n",
    "\n",
    "$$f(x) = max(0, x)$$\n",
    "\n",
    "Эта функция реализует простой пороговый переход в нуле."
   ]
  },
  {
   "cell_type": "code",
   "execution_count": 13,
   "metadata": {
    "collapsed": false
   },
   "outputs": [
    {
     "data": {
      "text/plain": [
       "<matplotlib.text.Text at 0x7f00d489a210>"
      ]
     },
     "execution_count": 13,
     "metadata": {},
     "output_type": "execute_result"
    },
    {
     "data": {
      "image/png": "[encoded data removed]",
      "text/plain": [
       "<matplotlib.figure.Figure at 0x7f00d491e590>"
      ]
     },
     "metadata": {},
     "output_type": "display_data"
    }
   ],
   "source": [
    "def f(x):\n",
    "    return np.maximum(0,x)\n",
    "X = np.arange(-4,5,1)\n",
    "Y = f(X)\n",
    "plt.plot(X,Y,'o-')\n",
    "plt.ylim(-1,5); plt.grid(); plt.xlabel('$x$', fontsize=22); plt.ylabel('$f(x)$', fontsize=22)"
   ]
  },
  {
   "cell_type": "markdown",
   "metadata": {},
   "source": [
    "## Функция ошибки mae(mean absolute error) - \n",
    "\n",
    "$$MAE = \\frac{1}{n}\\sum_{i=1}^n \\mid f_i-y_i \\mid$$\n",
    "\n",
    "f - полученное значение\n",
    "\n",
    "y - нужное значение\n",
    "\n",
    "n - количество значений"
   ]
  },
  {
   "cell_type": "markdown",
   "metadata": {},
   "source": [
    "## Оптимизационная функция adam(Adaptive Moment Estimation) - Метод адаптивной инерции \n",
    "\n",
    "Алгоритм вычисляет адаптивный шаг обучения (learning rate) для каждого параметра в отдельности, учитывая историю всех прошлых градиентов для этого параметра. \n",
    "Это делается путем деления каждого элемента в градиенте на квадратный корень суммы квадратов прошлых соответствующих элементов градиента.\n",
    "В дополнение к хранению прошлых градиентов $V_t$, adam также сохраняет скользящие средние прошлых градиентов $m_t$:\n",
    "$$m_t = \\beta_1m_{t-1}+(1-\\beta_1)g_t$$\n",
    "\n",
    "$$V_t = \\beta_2V_{t-1}+(1-\\beta_2)g_t^2$$\n",
    "\n",
    "$m_t$ и $V_t$ являются оценками первого момента градиентов (скользящее среднее) и второго момента градиентов (центрированной дисперсии)."
   ]
  },
  {
   "cell_type": "markdown",
   "metadata": {},
   "source": [
    "# Результаты обучения\n",
    "\n",
    "Показаны предсказания модели и правильный результат для первых 5 тестировочных примеров и визуализация 2-ух кривых ошибок:\n",
    " - кривая валидационной ошибки (valid loss);\n",
    " - кривая тренировочной ошибки (train loss)\n",
    "\n",
    "Валидационная ошибка - ошибка на валидационном множестве, выбираемом из обучающей выборки.\n",
    "\n",
    "Тренировочная ошибка - ошибка на тестировочном множестве, которое не учавствовало в обучении."
   ]
  },
  {
   "cell_type": "code",
   "execution_count": 9,
   "metadata": {
    "collapsed": false
   },
   "outputs": [
    {
     "name": "stdout",
     "output_type": "stream",
     "text": [
      "Предсказание:  0.589808 \n",
      "Правильный ответ:  0.592813970636 \n",
      "\n",
      "Предсказание:  0.470502 \n",
      "Правильный ответ:  0.474327390283 \n",
      "\n",
      "Предсказание:  0.528703 \n",
      "Правильный ответ:  0.532715838476 \n",
      "\n",
      "Предсказание:  0.69149 \n",
      "Правильный ответ:  0.692620866228 \n",
      "\n",
      "Предсказание:  0.467676 \n",
      "Правильный ответ:  0.471901299742 \n",
      "\n"
     ]
    }
   ],
   "source": [
    "for num, i in enumerate(pred, 0):\n",
    "    print 'Предсказание: ', i[0], '\\nПравильный ответ: ', y_test[num][0], '\\n'\n",
    "    if num==4:\n",
    "        break"
   ]
  },
  {
   "cell_type": "code",
   "execution_count": 14,
   "metadata": {
    "collapsed": false
   },
   "outputs": [
    {
     "data": {
      "image/png": "[encoded data removed]",
      "text/plain": [
       "<matplotlib.figure.Figure at 0x7f00d47f9410>"
      ]
     },
     "metadata": {},
     "output_type": "display_data"
    }
   ],
   "source": [
    "# Визуализация 2-ух кривых ошибок:\n",
    "plt.figure()\n",
    "plt.title(\"Training loss and validation loss\")\n",
    "plt.plot(history.history[\"loss\"], label = 'train loss')\n",
    "plt.plot(history.history[\"val_loss\"], label = 'valid loss')\n",
    "plt.xlabel(\"$Epoch$\")\n",
    "plt.ylabel(\"$Loss$\")\n",
    "plt.legend()\n",
    "plt.show()"
   ]
  }
 ],
 "metadata": {
  "kernelspec": {
   "display_name": "Python 2",
   "language": "python",
   "name": "python2"
  },
  "language_info": {
   "codemirror_mode": {
    "name": "ipython",
    "version": 2
   },
   "file_extension": ".py",
   "mimetype": "text/x-python",
   "name": "python",
   "nbconvert_exporter": "python",
   "pygments_lexer": "ipython2",
   "version": "2.7.6"
  }
 },
 "nbformat": 4,
 "nbformat_minor": 1
}
