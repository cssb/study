{
 "cells": [
  {
   "cell_type": "code",
   "execution_count": 1,
   "metadata": {
    "collapsed": false
   },
   "outputs": [
    {
     "name": "stdout",
     "output_type": "stream",
     "text": [
      "0.00151057401813\n"
     ]
    }
   ],
   "source": [
    "my_name = u\"Молошников Иван Александрович\"\n",
    "month = 3\n",
    "year_month = float(month)/float(1986.)\n",
    "print(year_month)"
   ]
  },
  {
   "cell_type": "code",
   "execution_count": 2,
   "metadata": {
    "collapsed": false
   },
   "outputs": [
    {
     "name": "stdout",
     "output_type": "stream",
     "text": [
      "Март\n"
     ]
    }
   ],
   "source": [
    "l_months = [u\"Январь\", u\"Февраль\",\n",
    "            u\"Март\", u\"Апрель\", u\"Май\",\n",
    "            u\"Июнь\", u\"Июль\", u\"Август\",\n",
    "            u\"Сентябрь\", u\"Октябрь\", u\"Ноябрь\", u\"Декабрь\"]\n",
    "\n",
    "print(l_months[month-1])"
   ]
  },
  {
   "cell_type": "code",
   "execution_count": 3,
   "metadata": {
    "collapsed": false
   },
   "outputs": [
    {
     "name": "stdout",
     "output_type": "stream",
     "text": [
      "Месяц: Январь, №:1\n",
      "Месяц: Февраль, №:2\n",
      "Месяц: Март, №:3\n",
      "Месяц: Апрель, №:4\n",
      "Месяц: Май, №:5\n",
      "Месяц: Июнь, №:6\n",
      "Месяц: Июль, №:7\n",
      "Месяц: Август, №:8\n",
      "Месяц: Сентябрь, №:9\n",
      "Месяц: Октябрь, №:10\n",
      "Месяц: Ноябрь, №:11\n",
      "Месяц: Декабрь, №:12\n"
     ]
    }
   ],
   "source": [
    "d_months = {u\"Январь\":1, u\"Февраль\":2,\n",
    "            u\"Март\":3, u\"Апрель\":4, u\"Май\":5,\n",
    "            u\"Июнь\":6, u\"Июль\":7, u\"Август\":8,\n",
    "            u\"Сентябрь\":9, u\"Октябрь\":10, u\"Ноябрь\":11, u\"Декабрь\":12}\n",
    "for val in l_months:\n",
    "    print(u\"Месяц: {0}, №:{1}\".format(val, d_months[val]) )"
   ]
  },
  {
   "cell_type": "code",
   "execution_count": 5,
   "metadata": {
    "collapsed": false
   },
   "outputs": [],
   "source": [
    "f = open(\"my_name.txt\", \"w\")\n",
    "f.write(my_name.encode(\"utf-8\"))\n",
    "f.close()"
   ]
  }
 ],
 "metadata": {
  "kernelspec": {
   "display_name": "Python 2",
   "language": "python",
   "name": "python2"
  },
  "language_info": {
   "codemirror_mode": {
    "name": "ipython",
    "version": 2
   },
   "file_extension": ".py",
   "mimetype": "text/x-python",
   "name": "python",
   "nbconvert_exporter": "python",
   "pygments_lexer": "ipython2",
   "version": "2.7.3"
  }
 },
 "nbformat": 4,
 "nbformat_minor": 0
}
