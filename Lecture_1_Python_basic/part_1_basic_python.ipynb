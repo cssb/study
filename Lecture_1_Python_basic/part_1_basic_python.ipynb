{
 "cells": [
  {
   "cell_type": "markdown",
   "metadata": {},
   "source": [
    "# Основы языка Python"
   ]
  },
  {
   "cell_type": "markdown",
   "metadata": {},
   "source": [
    "**Python** — высокоуровневый язык программирования общего назначения, ориентированный на повышение производительности разработчика и читаемости кода (https://ru.wikipedia.org/wiki/Python)."
   ]
  },
  {
   "cell_type": "markdown",
   "metadata": {},
   "source": [
    "Одной из особенностей языка является **интерактивный режим**. В этом режими введённые команды сразу же выполняются, а результат выводится на экран.\n",
    "\n",
    "Пример:"
   ]
  },
  {
   "cell_type": "code",
   "execution_count": 1,
   "metadata": {
    "collapsed": false,
    "scrolled": true
   },
   "outputs": [
    {
     "name": "stdout",
     "output_type": "stream",
     "text": [
      "Hello, world!\n"
     ]
    }
   ],
   "source": [
    "print(\"Hello, world!\")"
   ]
  },
  {
   "cell_type": "markdown",
   "metadata": {},
   "source": [
    "## IDE и интерактивые среды\n",
    "1. **IPython Notebook** -- интерактивная среда для языка Python с веб-интерфейсом (http://ipython.org/index.html).\n",
    "2. **CPython** -- стандартный интерпретатор, с возможностью запуска в интерактивном режиме.\n",
    "3. **IDE** -- PyCharm (http://www.jetbrains.com/pycharm), PyDev (http://www.pydev.org)\n",
    "\n",
    "Мы будем использовать **IPython Notebook**."
   ]
  },
  {
   "cell_type": "markdown",
   "metadata": {},
   "source": [
    "## IPython Notebook\n",
    "Блокнот разделён на блоки 2-х типов:\n",
    "- текстовые и графические пояснение\n",
    "- исполняемый код (по умолчанию):\n",
    "    - сам код\n",
    "    - вывод последней команды в блоке"
   ]
  },
  {
   "cell_type": "code",
   "execution_count": 2,
   "metadata": {
    "collapsed": false
   },
   "outputs": [
    {
     "name": "stdout",
     "output_type": "stream",
     "text": [
      "переменная типа str\n"
     ]
    }
   ],
   "source": [
    "## Пример блока с кодом\n",
    "a = \"переменная типа str\"\n",
    "print(a)"
   ]
  },
  {
   "cell_type": "markdown",
   "metadata": {},
   "source": [
    "**Особенность:** каждый блок выполняется отдельно от остальных."
   ]
  },
  {
   "cell_type": "code",
   "execution_count": 3,
   "metadata": {
    "collapsed": true
   },
   "outputs": [],
   "source": [
    "# Выполнить вторым\n",
    "a = \"Вторая строчка\""
   ]
  },
  {
   "cell_type": "code",
   "execution_count": 4,
   "metadata": {
    "collapsed": true
   },
   "outputs": [],
   "source": [
    "# Выполнить первым\n",
    "a = \"Третья строчка\""
   ]
  },
  {
   "cell_type": "code",
   "execution_count": 79,
   "metadata": {
    "collapsed": false
   },
   "outputs": [
    {
     "name": "stdout",
     "output_type": "stream",
     "text": [
      "10\n"
     ]
    }
   ],
   "source": [
    "print(a)"
   ]
  },
  {
   "cell_type": "markdown",
   "metadata": {},
   "source": [
    "## Основные типы данных языка Python"
   ]
  },
  {
   "cell_type": "markdown",
   "metadata": {},
   "source": [
    "### Текстовые типы данных"
   ]
  },
  {
   "cell_type": "code",
   "execution_count": 6,
   "metadata": {
    "collapsed": false
   },
   "outputs": [],
   "source": [
    "## Тип данных string\n",
    "a = \"Какой-то текст\"\n",
    "a = \"\"\"Текст\n",
    "       на\n",
    "       нескольких\n",
    "       строчках\"\"\"\n",
    "\n",
    "# Тип данных Unicode\n",
    "a = u\"Текст в формате Unicode\""
   ]
  },
  {
   "cell_type": "markdown",
   "metadata": {},
   "source": [
    "- String -- набор однобайтовых кодов + название кодировки.\n",
    "- Unicode -- стандарт, позволяющий поддерживать большое число символов.\n",
    "\n",
    "Просто так сложилось, кому интересно можно почитать http://habrahabr.ru/post/135913/"
   ]
  },
  {
   "cell_type": "code",
   "execution_count": 7,
   "metadata": {
    "collapsed": false
   },
   "outputs": [
    {
     "name": "stdout",
     "output_type": "stream",
     "text": [
      "ZR ÑÑ\n"
     ]
    }
   ],
   "source": [
    "print(\"ZR щю\".decode(\"latin-1\"))"
   ]
  },
  {
   "cell_type": "code",
   "execution_count": 8,
   "metadata": {
    "collapsed": false
   },
   "outputs": [
    {
     "name": "stdout",
     "output_type": "stream",
     "text": [
      "ZR щю\n"
     ]
    }
   ],
   "source": [
    "print(u\"ZR щю\")"
   ]
  },
  {
   "cell_type": "code",
   "execution_count": 9,
   "metadata": {
    "collapsed": false
   },
   "outputs": [
    {
     "name": "stdout",
     "output_type": "stream",
     "text": [
      "False\n"
     ]
    },
    {
     "name": "stderr",
     "output_type": "stream",
     "text": [
      "/usr/local/lib/python2.7/dist-packages/ipykernel/__main__.py:1: UnicodeWarning: Unicode equal comparison failed to convert both arguments to Unicode - interpreting them as being unequal\n",
      "  if __name__ == '__main__':\n"
     ]
    }
   ],
   "source": [
    "print(u\"Текст\" == \"Текст\")"
   ]
  },
  {
   "cell_type": "code",
   "execution_count": 10,
   "metadata": {
    "collapsed": false
   },
   "outputs": [
    {
     "data": {
      "text/plain": [
       "True"
      ]
     },
     "execution_count": 10,
     "metadata": {},
     "output_type": "execute_result"
    }
   ],
   "source": [
    "u\"Текст\" == \"Текст\".decode(\"utf-8\")"
   ]
  },
  {
   "cell_type": "code",
   "execution_count": 80,
   "metadata": {
    "collapsed": false
   },
   "outputs": [
    {
     "data": {
      "text/plain": [
       "True"
      ]
     },
     "execution_count": 80,
     "metadata": {},
     "output_type": "execute_result"
    }
   ],
   "source": [
    "u\"Текст\".encode(\"utf-8\") == \"Текст\""
   ]
  },
  {
   "cell_type": "markdown",
   "metadata": {},
   "source": [
    "**Задание:**\n",
    "- Создать текстовую переменну  **my_name** с ФИО"
   ]
  },
  {
   "cell_type": "markdown",
   "metadata": {},
   "source": [
    "### Числовые типы данных"
   ]
  },
  {
   "cell_type": "code",
   "execution_count": 12,
   "metadata": {
    "collapsed": true
   },
   "outputs": [],
   "source": [
    "# Целое число -- int\n",
    "i_1 = 1\n",
    "\n",
    "# Дробное -- float\n",
    "i_2 = 1.\n",
    "i_3 = 0.5"
   ]
  },
  {
   "cell_type": "code",
   "execution_count": 13,
   "metadata": {
    "collapsed": false
   },
   "outputs": [
    {
     "data": {
      "text/plain": [
       "True"
      ]
     },
     "execution_count": 13,
     "metadata": {},
     "output_type": "execute_result"
    }
   ],
   "source": [
    "i_1 == i_2"
   ]
  },
  {
   "cell_type": "code",
   "execution_count": 14,
   "metadata": {
    "collapsed": false
   },
   "outputs": [
    {
     "data": {
      "text/plain": [
       "True"
      ]
     },
     "execution_count": 14,
     "metadata": {},
     "output_type": "execute_result"
    }
   ],
   "source": [
    "i_2.is_integer()"
   ]
  },
  {
   "cell_type": "code",
   "execution_count": 15,
   "metadata": {
    "collapsed": false
   },
   "outputs": [
    {
     "data": {
      "text/plain": [
       "False"
      ]
     },
     "execution_count": 15,
     "metadata": {},
     "output_type": "execute_result"
    }
   ],
   "source": [
    "i_3.is_integer()"
   ]
  },
  {
   "cell_type": "code",
   "execution_count": 16,
   "metadata": {
    "collapsed": false
   },
   "outputs": [
    {
     "data": {
      "text/plain": [
       "1"
      ]
     },
     "execution_count": 16,
     "metadata": {},
     "output_type": "execute_result"
    }
   ],
   "source": [
    "a = 0\n",
    "a += 1\n",
    "a"
   ]
  },
  {
   "cell_type": "code",
   "execution_count": 17,
   "metadata": {
    "collapsed": false
   },
   "outputs": [
    {
     "data": {
      "text/plain": [
       "2"
      ]
     },
     "execution_count": 17,
     "metadata": {},
     "output_type": "execute_result"
    }
   ],
   "source": [
    "10 / 4"
   ]
  },
  {
   "cell_type": "code",
   "execution_count": 81,
   "metadata": {
    "collapsed": false
   },
   "outputs": [
    {
     "data": {
      "text/plain": [
       "2.5"
      ]
     },
     "execution_count": 81,
     "metadata": {},
     "output_type": "execute_result"
    }
   ],
   "source": [
    "float(10) / float(4)"
   ]
  },
  {
   "cell_type": "markdown",
   "metadata": {},
   "source": [
    "**Задание:**\n",
    "   - Записать в переменную **month** месяц рождения в числовом виде\n",
    "   - разделить **month** на год рождения, сохранить результат в переменную **year_month**\n",
    "   - выведите на экран значение переменной **year_month**"
   ]
  },
  {
   "cell_type": "markdown",
   "metadata": {},
   "source": [
    "### Списки"
   ]
  },
  {
   "cell_type": "code",
   "execution_count": 19,
   "metadata": {
    "collapsed": false
   },
   "outputs": [],
   "source": [
    "# Тип данных list\n",
    "l = [1, 2, u\"Текст\", [\"text\", 2, 3], None, 10., 5*10]"
   ]
  },
  {
   "cell_type": "code",
   "execution_count": 20,
   "metadata": {
    "collapsed": false
   },
   "outputs": [
    {
     "name": "stdout",
     "output_type": "stream",
     "text": [
      "1\n",
      "Текст\n",
      "50\n",
      "[['text', 2, 3], None, 10.0]\n"
     ]
    }
   ],
   "source": [
    "# Каждый элемент доступен по индексу\n",
    "print( l[0] )    # 0-й элемент\n",
    "print( l[2] )    # 2-ой элемент\n",
    "print( l[-1] )   # последний элемент списка\n",
    "print( l[3:-1] ) # часть списка"
   ]
  },
  {
   "cell_type": "code",
   "execution_count": 21,
   "metadata": {
    "collapsed": false
   },
   "outputs": [
    {
     "name": "stdout",
     "output_type": "stream",
     "text": [
      "Т\n",
      "Тек\n"
     ]
    }
   ],
   "source": [
    "# Строки похожи на списки\n",
    "print(u\"Текст\"[0])\n",
    "print(u\"Текст\"[0:3])"
   ]
  },
  {
   "cell_type": "code",
   "execution_count": 22,
   "metadata": {
    "collapsed": false
   },
   "outputs": [
    {
     "name": "stdout",
     "output_type": "stream",
     "text": [
      "1\n",
      "2\n",
      "Текст\n",
      "['text', 2, 3]\n",
      "None\n",
      "10.0\n",
      "50\n"
     ]
    }
   ],
   "source": [
    "# Пробегаем по всем элементам списка\n",
    "for val in l:\n",
    "    print(val)"
   ]
  },
  {
   "cell_type": "markdown",
   "metadata": {},
   "source": [
    "**Особенность:** блоки кода в Python выделяются отступами (обычно 4 пробела или табуляция)"
   ]
  },
  {
   "cell_type": "code",
   "execution_count": 23,
   "metadata": {
    "collapsed": false
   },
   "outputs": [
    {
     "name": "stdout",
     "output_type": "stream",
     "text": [
      "1\n",
      "2\n",
      "Текст\n",
      "['text', 2, 3]\n",
      "None\n",
      "10.0\n",
      "50\n",
      "Новый элемент\n"
     ]
    }
   ],
   "source": [
    "l = l + [u\"Новый элемент\"]\n",
    "for val in l:\n",
    "    print(val)"
   ]
  },
  {
   "cell_type": "code",
   "execution_count": 24,
   "metadata": {
    "collapsed": true
   },
   "outputs": [],
   "source": [
    "## Ссылка на список\n",
    "l_link = l"
   ]
  },
  {
   "cell_type": "code",
   "execution_count": 25,
   "metadata": {
    "collapsed": false
   },
   "outputs": [
    {
     "data": {
      "text/plain": [
       "1"
      ]
     },
     "execution_count": 25,
     "metadata": {},
     "output_type": "execute_result"
    }
   ],
   "source": [
    "l[0]"
   ]
  },
  {
   "cell_type": "code",
   "execution_count": 26,
   "metadata": {
    "collapsed": false
   },
   "outputs": [
    {
     "data": {
      "text/plain": [
       "1"
      ]
     },
     "execution_count": 26,
     "metadata": {},
     "output_type": "execute_result"
    }
   ],
   "source": [
    "l_link[0]"
   ]
  },
  {
   "cell_type": "code",
   "execution_count": 27,
   "metadata": {
    "collapsed": false
   },
   "outputs": [
    {
     "data": {
      "text/plain": [
       "5"
      ]
     },
     "execution_count": 27,
     "metadata": {},
     "output_type": "execute_result"
    }
   ],
   "source": [
    "l[0] = 5\n",
    "l[0]"
   ]
  },
  {
   "cell_type": "code",
   "execution_count": 29,
   "metadata": {
    "collapsed": false
   },
   "outputs": [
    {
     "data": {
      "text/plain": [
       "5"
      ]
     },
     "execution_count": 29,
     "metadata": {},
     "output_type": "execute_result"
    }
   ],
   "source": [
    "l_link[0]"
   ]
  },
  {
   "cell_type": "code",
   "execution_count": 30,
   "metadata": {
    "collapsed": true
   },
   "outputs": [],
   "source": [
    "# Копия списка\n",
    "l_copy = list(l)"
   ]
  },
  {
   "cell_type": "code",
   "execution_count": 31,
   "metadata": {
    "collapsed": true
   },
   "outputs": [],
   "source": [
    "l[0] = 10"
   ]
  },
  {
   "cell_type": "code",
   "execution_count": 33,
   "metadata": {
    "collapsed": false
   },
   "outputs": [
    {
     "data": {
      "text/plain": [
       "5"
      ]
     },
     "execution_count": 33,
     "metadata": {},
     "output_type": "execute_result"
    }
   ],
   "source": [
    "l_copy[0]"
   ]
  },
  {
   "cell_type": "code",
   "execution_count": 82,
   "metadata": {
    "collapsed": false
   },
   "outputs": [
    {
     "data": {
      "text/plain": [
       "10"
      ]
     },
     "execution_count": 82,
     "metadata": {},
     "output_type": "execute_result"
    }
   ],
   "source": [
    "l_link[0]"
   ]
  },
  {
   "cell_type": "markdown",
   "metadata": {},
   "source": [
    "**Задание:**\n",
    "- создать список **l_months**, записать в него в текстовом (Unicode) виде названия месяцев\n",
    "- выведите название месяца вашего рождения, используя переменную **month**, созданный список и функцию **print()**"
   ]
  },
  {
   "cell_type": "markdown",
   "metadata": {},
   "source": [
    "### Словари"
   ]
  },
  {
   "cell_type": "code",
   "execution_count": 50,
   "metadata": {
    "collapsed": false
   },
   "outputs": [],
   "source": [
    "# Тип данных -- dict\n",
    "d = {u\"a\":u\"Строка для ключа a\",\n",
    "     2: 34534265,\n",
    "     1: 578,\n",
    "     (1, 2): u\"Строка для кортежа (1, 2)\",   # Кортеж -- неизменяемый список\n",
    "     \"list\": [1, 2, 3]}"
   ]
  },
  {
   "cell_type": "code",
   "execution_count": 51,
   "metadata": {
    "collapsed": false
   },
   "outputs": [
    {
     "name": "stdout",
     "output_type": "stream",
     "text": [
      "578\n",
      "Строка для кортежа (1, 2)\n"
     ]
    }
   ],
   "source": [
    "# Доступ к значениям идёт по ключу\n",
    "print(d[1])\n",
    "print(d[(1, 2)])"
   ]
  },
  {
   "cell_type": "code",
   "execution_count": 83,
   "metadata": {
    "collapsed": false
   },
   "outputs": [
    {
     "name": "stdout",
     "output_type": "stream",
     "text": [
      "Ключ: \"a\", значение: \"Строка для ключа a\" \n",
      "Ключ: \"1\", значение: \"578\" \n",
      "Ключ: \"2\", значение: \"34534265\" \n",
      "Ключ: \"(1, 2)\", значение: \"Строка для кортежа (1, 2)\" \n",
      "Ключ: \"list\", значение: \"[1, 2, 3]\" \n"
     ]
    }
   ],
   "source": [
    "# Пробегаем по всем значениям словаря\n",
    "for k, v in d.iteritems():\n",
    "    # Обратите внимание на подстановку значений переменных k, v в строку\n",
    "    print(u\"Ключ: \\\"{0}\\\", значение: \\\"{1}\\\" \".format(k, v))"
   ]
  },
  {
   "cell_type": "markdown",
   "metadata": {},
   "source": [
    "**Задание:**\n",
    "- создать словарь **d_months**, где ключом является название месяца, а значением -- номер\n",
    "- для каждого значения списка **l_months** выведите месяц и его номер, используя созданный словарь и подстановку значений переменных в строку"
   ]
  },
  {
   "cell_type": "markdown",
   "metadata": {},
   "source": [
    "### Работа с файлами"
   ]
  },
  {
   "cell_type": "code",
   "execution_count": 60,
   "metadata": {
    "collapsed": false
   },
   "outputs": [],
   "source": [
    "f = open(\"my_file.txt\", \"w\") # открыть файл для записи, ключ \"w\"\n",
    "f.write(u\"My string\\n\")        # записать в файл строку \"My string\", \\n -- конец строки\n",
    "f.write(\"Моя строкча\")\n",
    "f.close()                    # закрыть файл"
   ]
  },
  {
   "cell_type": "code",
   "execution_count": 1,
   "metadata": {
    "collapsed": false
   },
   "outputs": [
    {
     "name": "stdout",
     "output_type": "stream",
     "text": [
      "My string\n",
      "Моя строкча\n"
     ]
    }
   ],
   "source": [
    "f = open(\"my_file.txt\", \"r\") # открыть файл для чтения\n",
    "print(f.read())              # прочитать всё содержимое\n",
    "f.close()"
   ]
  },
  {
   "cell_type": "code",
   "execution_count": 10,
   "metadata": {
    "collapsed": false
   },
   "outputs": [
    {
     "data": {
      "text/plain": [
       "[u'10436', u'LocOrg', u'22769']"
      ]
     },
     "execution_count": 10,
     "metadata": {},
     "output_type": "execute_result"
    }
   ],
   "source": [
    "ids, word = u\"10436 LocOrg 22769 # Москвы\".split(\"#\")\n",
    "ids.strip().split(\" \")"
   ]
  },
  {
   "cell_type": "code",
   "execution_count": 4,
   "metadata": {
    "collapsed": false
   },
   "outputs": [
    {
     "name": "stdout",
     "output_type": "stream",
     "text": [
      "My string\n",
      "Моя строкча\n"
     ]
    }
   ],
   "source": [
    "f = open(\"my_file.txt\", \"r\") # открыть файл для чтения\n",
    "f_txt = f.read()             # прочитать всё содержимое в переменную\n",
    "f.close()\n",
    "\n",
    "# Выводим построчно\n",
    "for row in f_txt.split(\"\\n\"):\n",
    "    print(row)\n",
    "    list_words_in_row = row.split(\" \")\n",
    "    print"
   ]
  },
  {
   "cell_type": "markdown",
   "metadata": {},
   "source": [
    "**Задание**\n",
    "- записать в файл my_name.txt свои ФИО"
   ]
  },
  {
   "cell_type": "markdown",
   "metadata": {},
   "source": [
    "## Условия"
   ]
  },
  {
   "cell_type": "code",
   "execution_count": 68,
   "metadata": {
    "collapsed": false
   },
   "outputs": [
    {
     "name": "stdout",
     "output_type": "stream",
     "text": [
      "a == 10\n"
     ]
    }
   ],
   "source": [
    "a = 10\n",
    "if a == 10:\n",
    "    print(\"a == 10\")\n",
    "else:\n",
    "    print(\"a != 10\")"
   ]
  },
  {
   "cell_type": "markdown",
   "metadata": {},
   "source": [
    "## Циклы"
   ]
  },
  {
   "cell_type": "code",
   "execution_count": 69,
   "metadata": {
    "collapsed": false
   },
   "outputs": [
    {
     "name": "stdout",
     "output_type": "stream",
     "text": [
      "1\n",
      "2\n",
      "3\n"
     ]
    }
   ],
   "source": [
    "for i in [1, 2, 3]:\n",
    "    print(i)"
   ]
  },
  {
   "cell_type": "code",
   "execution_count": 74,
   "metadata": {
    "collapsed": false
   },
   "outputs": [
    {
     "name": "stdout",
     "output_type": "stream",
     "text": [
      "5\n",
      "6\n",
      "7\n",
      "8\n",
      "9\n"
     ]
    }
   ],
   "source": [
    "for i in range(5, 10):\n",
    "    print(i)"
   ]
  },
  {
   "cell_type": "code",
   "execution_count": 75,
   "metadata": {
    "collapsed": false
   },
   "outputs": [
    {
     "data": {
      "text/plain": [
       "[5, 6, 7, 8, 9]"
      ]
     },
     "execution_count": 75,
     "metadata": {},
     "output_type": "execute_result"
    }
   ],
   "source": [
    "range(5, 10)"
   ]
  },
  {
   "cell_type": "code",
   "execution_count": 77,
   "metadata": {
    "collapsed": false
   },
   "outputs": [
    {
     "name": "stdout",
     "output_type": "stream",
     "text": [
      "0\n",
      "1\n",
      "2\n",
      "3\n",
      "4\n",
      "5\n",
      "6\n",
      "7\n",
      "8\n",
      "9\n"
     ]
    }
   ],
   "source": [
    "i = 0\n",
    "while i < 10:\n",
    "    print(i)\n",
    "    i += 1"
   ]
  },
  {
   "cell_type": "markdown",
   "metadata": {},
   "source": [
    "## Доплнительные материалы по языку"
   ]
  },
  {
   "cell_type": "markdown",
   "metadata": {},
   "source": [
    "- Python за 10 миут http://www.stavros.io/tutorials/python/"
   ]
  }
 ],
 "metadata": {
  "celltoolbar": "Raw Cell Format",
  "kernelspec": {
   "display_name": "Python 2",
   "language": "python",
   "name": "python2"
  },
  "language_info": {
   "codemirror_mode": {
    "name": "ipython",
    "version": 2
   },
   "file_extension": ".py",
   "mimetype": "text/x-python",
   "name": "python",
   "nbconvert_exporter": "python",
   "pygments_lexer": "ipython2",
   "version": "2.7.3"
  }
 },
 "nbformat": 4,
 "nbformat_minor": 0
}
