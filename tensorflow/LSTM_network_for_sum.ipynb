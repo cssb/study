{
 "cells": [
  {
   "cell_type": "markdown",
   "metadata": {},
   "source": [
    "# Простая рекуррентная сеть на Tensorflow\n",
    "В данном примере показана работа с рекуррентной нейронной сетью типа LSTM в Tensorflow.\n",
    "Для примера выбрана **регрессионная задача** расчёта суммы последовательности чисел.\n",
    "\n",
    "Для каждого $i$-го примера модель предсказывает сумму всех элементов на входе:\n",
    "\n",
    "$$ y_i = \\sum X_i, $$\n",
    "\n",
    "В одном примере на вход приходит 3 числа:\n",
    "$$ X_i = [x_1, x_2, x_3] $$\n",
    "\n",
    "Числа на входе лежат в интервале от 0 до 0.3, для нормализации выхода сети.\n",
    "$$ x_n \\in [0, 0.3], \\  0 < \\sum X_i < 1 $$"
   ]
  },
  {
   "cell_type": "code",
   "execution_count": 1,
   "metadata": {
    "collapsed": true
   },
   "outputs": [],
   "source": [
    "import tensorflow as tf\n",
    "import numpy as np\n",
    "\n",
    "import matplotlib.pyplot as plt\n",
    "%matplotlib inline"
   ]
  },
  {
   "cell_type": "markdown",
   "metadata": {},
   "source": [
    "## Данные\n",
    "Для примера сгенирирует 25 последовательностей случайных чисел длиной 3, 10 последовательностей для обучения и 15 для тестирования."
   ]
  },
  {
   "cell_type": "code",
   "execution_count": 2,
   "metadata": {
    "collapsed": false
   },
   "outputs": [],
   "source": [
    "x_train = np.random.random((10, 3, 1))/3.\n",
    "x_test  = np.random.random((15, 3, 1))/3.\n",
    "y_train = np.sum(x_train, axis=1)\n",
    "y_test  = np.sum(x_test,  axis=1)"
   ]
  },
  {
   "cell_type": "markdown",
   "metadata": {},
   "source": [
    "## Модель\n",
    "Для примера рассматриваеться модель на основе LSTM ячейки, можно выбрать любую другую из документации к Tensorflow.\n",
    "\n",
    "Нам необходимо построить граф преобразований входа $X$ в выход $Y$, для удобства построим граф внутри функции. Данный граф пока ничего не вычисляет, он только указывает последовательность действий.\n",
    "\n",
    "Рекуррентный слой в Tensorflow принимает данные в виде последоавтельности:\n",
    "(количество примеров в батче, размерность каждого примера)\n",
    "\n",
    "В качестве функции ошибки используем среднеквадратичную ошибку (MSE)\n",
    "$$ mse = \\frac {1} {n} \\sum (\\hat Y - Y)^2$$"
   ]
  },
  {
   "cell_type": "markdown",
   "metadata": {},
   "source": [
    "### Описываем граф нашей модели\n",
    "- batch_size -- количество примеров в одной \"порции\" для обучения или предсказания\n",
    "- time_steps -- количество элементов в последовательности для одного примера\n",
    "- input_size -- размерность эелемента в последовательности"
   ]
  },
  {
   "cell_type": "code",
   "execution_count": 3,
   "metadata": {
    "collapsed": true
   },
   "outputs": [],
   "source": [
    "def model(X, time_steps, input_size, lstm_size, lstm_out_dim):\n",
    "    # Сначала меняем местами batch_size и time_steps в X\n",
    "    # Было  (batch_size, time_steps, input_size),\n",
    "    # стало (time_steps, batch_size, input_size)\n",
    "    X = tf.transpose(X, [1, 0, 2])\n",
    "    \n",
    "    # Переводим размерность X в двумерный вид\n",
    "    # Было  (time_steps, batch_size, input_size),\n",
    "    # стало (time_steps*batch_size, input_size)\n",
    "    X = tf.reshape(X, [-1, input_size])\n",
    "    \n",
    "    # Разбиваем X на time_steps элементов,\n",
    "    # X стал списоком примеров,\n",
    "    # где каждый пример представлен элементом с размерностью (batch_size, input_size)\n",
    "    X = tf.split(0, time_steps, X)\n",
    "    \n",
    "    # Объявлем ячейки для рекуррентного слоя\n",
    "    # lstm_size -- количество ячеек (нейронов)\n",
    "    # state_is_tuple=True -- говорит, что выход сети и \"состояние\" сети представлены кортежем\n",
    "    # Специфика LSTM: forget_bias=1.0 (bias для gate на очистку)\n",
    "    lstm_cell = tf.nn.rnn_cell.BasicLSTMCell(lstm_size,\n",
    "                                             forget_bias=1.0,\n",
    "                                             state_is_tuple=True)\n",
    "    \n",
    "    # Создаём рекуррентный слой из объявленных ранее ячеек\n",
    "    # lstm_out -- выход сети\n",
    "    # lstm_states -- список состояний сети\n",
    "    lstm_out, lstm_states = tf.nn.rnn(lstm_cell, X, dtype=tf.float32)\n",
    "    \n",
    "    # Веса для связей\n",
    "    # W -- веса связей сети\n",
    "    # B -- для смещения\n",
    "    W = tf.get_variable(\"lstm_input_weights\", [lstm_size, lstm_out_dim], initializer=tf.random_normal_initializer())\n",
    "    B = tf.get_variable(\"lstm_biases\", [lstm_out_dim], initializer=tf.random_normal_initializer())\n",
    "    \n",
    "    # Применяем веса сети к выходу рекуррентого слоя,\n",
    "    # линейная функция активации (т.е. как есть так и возвращаем)\n",
    "    # lstm_out[-1] -- на каждый элемент последовательности\n",
    "    #     рукуррентый слой возвращаетс активность,\n",
    "    #     нам важна тольк последняя активность, отражающая всю последовательность\n",
    "    res = tf.matmul(lstm_out[-1], W) + B\n",
    "    return res"
   ]
  },
  {
   "cell_type": "markdown",
   "metadata": {},
   "source": [
    "### Устанавливаем параметры модели и описываем интерфейс взаимодействия с ней"
   ]
  },
  {
   "cell_type": "code",
   "execution_count": 4,
   "metadata": {
    "collapsed": false
   },
   "outputs": [],
   "source": [
    "# сбросить в исходное состояние граф, если до этого прводились какие-то оперции с tensorflow\n",
    "tf.reset_default_graph()\n",
    "\n",
    "time_steps  = x_train.shape[1] # количество элементов в одной последовательности\n",
    "input_size  = x_train.shape[2] # размерность элемента последовательности, в нашем случае 1\n",
    "network_out = y_train.shape[1] # размерность выхода сети\n",
    "lstm_size = 10                 # количество нейронов в рекуррентном слое\n",
    "\n",
    "\n",
    "# Определяем в каком виде нам приходят данные,\n",
    "# placeholder -- определяет только как вид переменной,\n",
    "# сами данные передаютсья во время обучения или предсказания\n",
    "X = tf.placeholder(\"float\", [None, time_steps, input_size])\n",
    "Y = tf.placeholder(\"float\", [None, network_out])\n",
    "\n",
    "# Создаём экземпляр нашей модели с заданными параметрами\n",
    "lstm_model = model(X, time_steps, input_size, lstm_size, network_out)\n",
    "\n",
    "# Определяем функцию ошибки, в данном случае это MSE\n",
    "cost = tf.reduce_mean(tf.pow(lstm_model - Y, 2))\n",
    "# Создаём решатель, по алгоритму RMSPropOptimizer, learning_rate = 0.001,\n",
    "# .minimize(cost) -- означает, что надо максимально минимизировать функцию ошибки\n",
    "train_op   = tf.train.RMSPropOptimizer(0.001).minimize(cost)"
   ]
  },
  {
   "cell_type": "markdown",
   "metadata": {},
   "source": [
    "## Обучение и оценка модели"
   ]
  },
  {
   "cell_type": "code",
   "execution_count": 5,
   "metadata": {
    "collapsed": true
   },
   "outputs": [],
   "source": [
    "# Списки для хранения результатов обучения\n",
    "l_pred_train_mse = [] # для тренировочного множества\n",
    "l_pred_test_mse = []  # для тестировочного множества\n",
    "\n",
    "# Количество эпох для обучения\n",
    "n_epoches = 300\n",
    "\n",
    "# Создаём сессию Tensorflow в которой будем работать\n",
    "# with tf.device(\"/gpu:0\"):\n",
    "sess = tf.Session()\n",
    "with sess.as_default():\n",
    "    # Инициализируем все переменные в графе\n",
    "    tf.initialize_all_variables().run()\n",
    "\n",
    "    for i in range(n_epoches):\n",
    "        # Одна итерация обучения\n",
    "        sess.run(train_op, feed_dict={X: x_train, Y: y_train})\n",
    "\n",
    "        # Предсказание\n",
    "        pred_train = sess.run(lstm_model, feed_dict={X: x_train})\n",
    "        pred_test  = sess.run(lstm_model, feed_dict={X: x_test})\n",
    "        l_pred_train_mse.append(np.mean(np.power(pred_train - y_train, 2)))\n",
    "        l_pred_test_mse.append(np.mean(np.power(pred_test - y_test, 2)))\n",
    "                               "
   ]
  },
  {
   "cell_type": "markdown",
   "metadata": {},
   "source": [
    "### Кривая обучения"
   ]
  },
  {
   "cell_type": "code",
   "execution_count": 6,
   "metadata": {
    "collapsed": false
   },
   "outputs": [
    {
     "data": {
      "image/png": "[encoded data removed]",
      "text/plain": [
       "<matplotlib.figure.Figure at 0x7f8d464a9e50>"
      ]
     },
     "metadata": {},
     "output_type": "display_data"
    }
   ],
   "source": [
    "plt.figure(figsize=(15, 5)) # Устанавливаем размер изображения\n",
    "# рисуем кривую для ошибки на тренировочном множестве\n",
    "plt.plot(range(n_epoches), l_pred_train_mse, label=\"train_mse\")\n",
    "# рисуем кривую для ошибки на тестировочном множестве\n",
    "plt.plot(range(n_epoches), l_pred_test_mse, label=\"test_mse\")\n",
    "# Задаём название графика\n",
    "plt.title(\"Learning curve\")\n",
    "# Подписи к оси X и Y\n",
    "plt.xlabel(\"epoch\")\n",
    "plt.ylabel(\"mse\")\n",
    "# Добавляем легенду на график и сетку\n",
    "plt.legend()\n",
    "plt.grid()"
   ]
  },
  {
   "cell_type": "markdown",
   "metadata": {},
   "source": [
    "## Тестриование модели"
   ]
  },
  {
   "cell_type": "code",
   "execution_count": 7,
   "metadata": {
    "collapsed": false
   },
   "outputs": [
    {
     "name": "stdout",
     "output_type": "stream",
     "text": [
      "perd=0.623, y=0.612, x: 0.322 + 0.103 + 0.187\n",
      "perd=0.535, y=0.539, x: 0.150 + 0.193 + 0.197\n",
      "perd=0.487, y=0.428, x: 0.312 + 0.011 + 0.105\n",
      "perd=0.496, y=0.517, x: 0.029 + 0.301 + 0.186\n",
      "perd=0.631, y=0.694, x: 0.123 + 0.256 + 0.316\n",
      "perd=0.625, y=0.674, x: 0.129 + 0.282 + 0.263\n",
      "perd=0.333, y=0.243, x: 0.195 + 0.032 + 0.016\n",
      "perd=0.302, y=0.239, x: 0.119 + 0.004 + 0.117\n",
      "perd=0.559, y=0.563, x: 0.204 + 0.135 + 0.225\n",
      "perd=0.530, y=0.507, x: 0.145 + 0.325 + 0.037\n",
      "perd=0.352, y=0.299, x: 0.138 + 0.032 + 0.130\n",
      "perd=0.398, y=0.414, x: 0.007 + 0.126 + 0.281\n"
     ]
    }
   ],
   "source": [
    "# Пропускаем первые n элементов из тестировочного множества\n",
    "start_offset = 3\n",
    "\n",
    "# Получаем результат расчёта для новых данных\n",
    "with sess.as_default():\n",
    "    pred_test  = sess.run(lstm_model, feed_dict={X: x_test[start_offset:]})\n",
    "\n",
    "# Выводим\n",
    "# pred -- предсказанное,\n",
    "# y -- что должно быть,\n",
    "# x -- входная последовательность, через \"+\", мы пытаемся нучить сетку сложению   \n",
    "for pred, x, y in zip(pred_test, x_test[start_offset:], y_test[start_offset:]):\n",
    "    print(\"perd={0:.3f}, y={1:.3f}, x: {2}\".format(pred[0], y[0], \" + \".join([\"{0:.3f}\".format(val[0]) for val in x])))"
   ]
  },
  {
   "cell_type": "code",
   "execution_count": 8,
   "metadata": {
    "collapsed": false
   },
   "outputs": [
    {
     "name": "stdout",
     "output_type": "stream",
     "text": [
      "Выполнено\n"
     ]
    }
   ],
   "source": [
    "print(\"Выполнено\")"
   ]
  }
 ],
 "metadata": {
  "kernelspec": {
   "display_name": "Python 2",
   "language": "python",
   "name": "python2"
  },
  "language_info": {
   "codemirror_mode": {
    "name": "ipython",
    "version": 2
   },
   "file_extension": ".py",
   "mimetype": "text/x-python",
   "name": "python",
   "nbconvert_exporter": "python",
   "pygments_lexer": "ipython2",
   "version": "2.7.6"
  }
 },
 "nbformat": 4,
 "nbformat_minor": 1
}
